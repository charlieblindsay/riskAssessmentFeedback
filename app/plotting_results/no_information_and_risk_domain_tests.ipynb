{
 "cells": [
  {
   "cell_type": "code",
   "execution_count": 32,
   "metadata": {},
   "outputs": [],
   "source": [
    "import pandas as pd"
   ]
  },
  {
   "cell_type": "code",
   "execution_count": 33,
   "metadata": {},
   "outputs": [],
   "source": [
    "df = pd.read_csv('risk_domain_tests_and_no_information_prompt_test.csv')"
   ]
  },
  {
   "cell_type": "code",
   "execution_count": 34,
   "metadata": {},
   "outputs": [
    {
     "data": {
      "text/html": [
       "<div>\n",
       "<style scoped>\n",
       "    .dataframe tbody tr th:only-of-type {\n",
       "        vertical-align: middle;\n",
       "    }\n",
       "\n",
       "    .dataframe tbody tr th {\n",
       "        vertical-align: top;\n",
       "    }\n",
       "\n",
       "    .dataframe thead th {\n",
       "        text-align: right;\n",
       "    }\n",
       "</style>\n",
       "<table border=\"1\" class=\"dataframe\">\n",
       "  <thead>\n",
       "    <tr style=\"text-align: right;\">\n",
       "      <th></th>\n",
       "      <th>Test</th>\n",
       "      <th>Claude Sonnet</th>\n",
       "      <th>GPT-3.5</th>\n",
       "      <th>Mistral Large</th>\n",
       "      <th>Mistral 8x22B</th>\n",
       "      <th>Mistral 8x7B</th>\n",
       "    </tr>\n",
       "  </thead>\n",
       "  <tbody>\n",
       "    <tr>\n",
       "      <th>0</th>\n",
       "      <td>No Information Provided Prompt Test</td>\n",
       "      <td>100.0</td>\n",
       "      <td>100.0</td>\n",
       "      <td>98.3</td>\n",
       "      <td>97.5</td>\n",
       "      <td>91.7</td>\n",
       "    </tr>\n",
       "    <tr>\n",
       "      <th>1</th>\n",
       "      <td>How It Harms Prompt Risk Domain Test</td>\n",
       "      <td>97.8</td>\n",
       "      <td>93.5</td>\n",
       "      <td>96.7</td>\n",
       "      <td>96.7</td>\n",
       "      <td>100.0</td>\n",
       "    </tr>\n",
       "    <tr>\n",
       "      <th>2</th>\n",
       "      <td>Who It Harms Prompt Risk Domain Test</td>\n",
       "      <td>100.0</td>\n",
       "      <td>97.1</td>\n",
       "      <td>100.0</td>\n",
       "      <td>100.0</td>\n",
       "      <td>97.1</td>\n",
       "    </tr>\n",
       "  </tbody>\n",
       "</table>\n",
       "</div>"
      ],
      "text/plain": [
       "                                   Test  Claude Sonnet  GPT-3.5  \\\n",
       "0   No Information Provided Prompt Test          100.0    100.0   \n",
       "1  How It Harms Prompt Risk Domain Test           97.8     93.5   \n",
       "2  Who It Harms Prompt Risk Domain Test          100.0     97.1   \n",
       "\n",
       "   Mistral Large  Mistral 8x22B  Mistral 8x7B  \n",
       "0           98.3           97.5          91.7  \n",
       "1           96.7           96.7         100.0  \n",
       "2          100.0          100.0          97.1  "
      ]
     },
     "execution_count": 34,
     "metadata": {},
     "output_type": "execute_result"
    }
   ],
   "source": [
    "df.head()\n"
   ]
  },
  {
   "cell_type": "code",
   "execution_count": 35,
   "metadata": {},
   "outputs": [],
   "source": [
    "df = df.set_index('Test')"
   ]
  },
  {
   "cell_type": "code",
   "execution_count": 36,
   "metadata": {},
   "outputs": [
    {
     "data": {
      "text/html": [
       "<div>\n",
       "<style scoped>\n",
       "    .dataframe tbody tr th:only-of-type {\n",
       "        vertical-align: middle;\n",
       "    }\n",
       "\n",
       "    .dataframe tbody tr th {\n",
       "        vertical-align: top;\n",
       "    }\n",
       "\n",
       "    .dataframe thead th {\n",
       "        text-align: right;\n",
       "    }\n",
       "</style>\n",
       "<table border=\"1\" class=\"dataframe\">\n",
       "  <thead>\n",
       "    <tr style=\"text-align: right;\">\n",
       "      <th></th>\n",
       "      <th>Claude Sonnet</th>\n",
       "      <th>GPT-3.5</th>\n",
       "      <th>Mistral Large</th>\n",
       "      <th>Mistral 8x22B</th>\n",
       "      <th>Mistral 8x7B</th>\n",
       "    </tr>\n",
       "    <tr>\n",
       "      <th>Test</th>\n",
       "      <th></th>\n",
       "      <th></th>\n",
       "      <th></th>\n",
       "      <th></th>\n",
       "      <th></th>\n",
       "    </tr>\n",
       "  </thead>\n",
       "  <tbody>\n",
       "    <tr>\n",
       "      <th>No Information Provided Prompt Test</th>\n",
       "      <td>100.0</td>\n",
       "      <td>100.0</td>\n",
       "      <td>98.3</td>\n",
       "      <td>97.5</td>\n",
       "      <td>91.7</td>\n",
       "    </tr>\n",
       "    <tr>\n",
       "      <th>How It Harms Prompt Risk Domain Test</th>\n",
       "      <td>97.8</td>\n",
       "      <td>93.5</td>\n",
       "      <td>96.7</td>\n",
       "      <td>96.7</td>\n",
       "      <td>100.0</td>\n",
       "    </tr>\n",
       "    <tr>\n",
       "      <th>Who It Harms Prompt Risk Domain Test</th>\n",
       "      <td>100.0</td>\n",
       "      <td>97.1</td>\n",
       "      <td>100.0</td>\n",
       "      <td>100.0</td>\n",
       "      <td>97.1</td>\n",
       "    </tr>\n",
       "  </tbody>\n",
       "</table>\n",
       "</div>"
      ],
      "text/plain": [
       "                                      Claude Sonnet  GPT-3.5  Mistral Large  \\\n",
       "Test                                                                          \n",
       "No Information Provided Prompt Test           100.0    100.0           98.3   \n",
       "How It Harms Prompt Risk Domain Test           97.8     93.5           96.7   \n",
       "Who It Harms Prompt Risk Domain Test          100.0     97.1          100.0   \n",
       "\n",
       "                                      Mistral 8x22B  Mistral 8x7B  \n",
       "Test                                                               \n",
       "No Information Provided Prompt Test            97.5          91.7  \n",
       "How It Harms Prompt Risk Domain Test           96.7         100.0  \n",
       "Who It Harms Prompt Risk Domain Test          100.0          97.1  "
      ]
     },
     "execution_count": 36,
     "metadata": {},
     "output_type": "execute_result"
    }
   ],
   "source": [
    "df"
   ]
  },
  {
   "cell_type": "code",
   "execution_count": 37,
   "metadata": {},
   "outputs": [
    {
     "data": {
      "text/html": [
       "<div>\n",
       "<style scoped>\n",
       "    .dataframe tbody tr th:only-of-type {\n",
       "        vertical-align: middle;\n",
       "    }\n",
       "\n",
       "    .dataframe tbody tr th {\n",
       "        vertical-align: top;\n",
       "    }\n",
       "\n",
       "    .dataframe thead th {\n",
       "        text-align: right;\n",
       "    }\n",
       "</style>\n",
       "<table border=\"1\" class=\"dataframe\">\n",
       "  <thead>\n",
       "    <tr style=\"text-align: right;\">\n",
       "      <th></th>\n",
       "      <th>Claude Sonnet</th>\n",
       "      <th>GPT-3.5</th>\n",
       "      <th>Mistral Large</th>\n",
       "      <th>Mistral 8x22B</th>\n",
       "      <th>Mistral 8x7B</th>\n",
       "    </tr>\n",
       "    <tr>\n",
       "      <th>Test</th>\n",
       "      <th></th>\n",
       "      <th></th>\n",
       "      <th></th>\n",
       "      <th></th>\n",
       "      <th></th>\n",
       "    </tr>\n",
       "  </thead>\n",
       "  <tbody>\n",
       "    <tr>\n",
       "      <th>No Information Provided Prompt Test</th>\n",
       "      <td>100.0</td>\n",
       "      <td>100.0</td>\n",
       "      <td>98.3</td>\n",
       "      <td>97.5</td>\n",
       "      <td>91.7</td>\n",
       "    </tr>\n",
       "    <tr>\n",
       "      <th>How It Harms Prompt Risk Domain Test</th>\n",
       "      <td>97.8</td>\n",
       "      <td>93.5</td>\n",
       "      <td>96.7</td>\n",
       "      <td>96.7</td>\n",
       "      <td>100.0</td>\n",
       "    </tr>\n",
       "    <tr>\n",
       "      <th>Who It Harms Prompt Risk Domain Test</th>\n",
       "      <td>100.0</td>\n",
       "      <td>97.1</td>\n",
       "      <td>100.0</td>\n",
       "      <td>100.0</td>\n",
       "      <td>97.1</td>\n",
       "    </tr>\n",
       "  </tbody>\n",
       "</table>\n",
       "</div>"
      ],
      "text/plain": [
       "                                      Claude Sonnet  GPT-3.5  Mistral Large  \\\n",
       "Test                                                                          \n",
       "No Information Provided Prompt Test           100.0    100.0           98.3   \n",
       "How It Harms Prompt Risk Domain Test           97.8     93.5           96.7   \n",
       "Who It Harms Prompt Risk Domain Test          100.0     97.1          100.0   \n",
       "\n",
       "                                      Mistral 8x22B  Mistral 8x7B  \n",
       "Test                                                               \n",
       "No Information Provided Prompt Test            97.5          91.7  \n",
       "How It Harms Prompt Risk Domain Test           96.7         100.0  \n",
       "Who It Harms Prompt Risk Domain Test          100.0          97.1  "
      ]
     },
     "execution_count": 37,
     "metadata": {},
     "output_type": "execute_result"
    }
   ],
   "source": [
    "df"
   ]
  },
  {
   "cell_type": "code",
   "execution_count": 38,
   "metadata": {},
   "outputs": [
    {
     "data": {
      "image/png": "[encoded data removed]",
      "text/plain": [
       "<Figure size 1000x500 with 1 Axes>"
      ]
     },
     "metadata": {},
     "output_type": "display_data"
    }
   ],
   "source": [
    "import matplotlib.pyplot as plt\n",
    "import numpy as np\n",
    "\n",
    "# Number of categories (rows) and series (columns)\n",
    "categories = df.index\n",
    "series = df.columns\n",
    "\n",
    "# Number of categories and series\n",
    "num_categories = len(categories)\n",
    "num_series = len(series)\n",
    "\n",
    "# Position of bars on x-axis\n",
    "x = np.arange(num_categories)\n",
    "\n",
    "# Bar width\n",
    "bar_width = 0.1\n",
    "\n",
    "# Create a figure and axis\n",
    "fig, ax = plt.subplots(figsize=(10,5))\n",
    "\n",
    "# Plot each column (series) as a grouped bar\n",
    "for i, ser in enumerate(series):\n",
    "    # Position for each group\n",
    "    positions = x + i * bar_width\n",
    "    ax.bar(positions, df[ser], bar_width, label=ser)\n",
    "\n",
    "# Set the position of the x ticks\n",
    "ax.set_xticks(x + (num_series / 2 - 0.5) * bar_width)\n",
    "\n",
    "# Set the labels for the x ticks\n",
    "ax.set_xticklabels(categories)\n",
    "\n",
    "ax.set_ylim(0, 100)\n",
    "ax.set_yticks(range(0, 101, 10))\n",
    "\n",
    "ax.grid(axis='y')\n",
    "\n",
    "# Set labels and title\n",
    "ax.set_xlabel('')\n",
    "ax.set_ylabel('Accuracy of Prompt Output During Test (%)')\n",
    "\n",
    "# Add legend with title\n",
    "legend = ax.legend(title='LLM', loc='lower right')\n",
    "legend.get_title().set_fontsize('13')  # Optionally set the font size of the legend title\n",
    "\n",
    "# Show the plot\n",
    "plt.show()"
   ]
  }
 ],
 "metadata": {
  "kernelspec": {
   "display_name": "Python 3",
   "language": "python",
   "name": "python3"
  },
  "language_info": {
   "codemirror_mode": {
    "name": "ipython",
    "version": 3
   },
   "file_extension": ".py",
   "mimetype": "text/x-python",
   "name": "python",
   "nbconvert_exporter": "python",
   "pygments_lexer": "ipython3",
   "version": "3.10.7"
  }
 },
 "nbformat": 4,
 "nbformat_minor": 2
}
